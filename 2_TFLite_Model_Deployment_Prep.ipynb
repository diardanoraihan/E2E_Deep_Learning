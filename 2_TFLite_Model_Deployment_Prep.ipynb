{
 "cells": [
  {
   "cell_type": "markdown",
   "metadata": {},
   "source": [
    "# TensorFlow Lite\n",
    "<hr>"
   ]
  },
  {
   "cell_type": "markdown",
   "metadata": {},
   "source": [
    "## <u>Introduction</u>"
   ]
  },
  {
   "cell_type": "markdown",
   "metadata": {},
   "source": [
    "In this part, we will cover about:\n",
    "- what TFLite is,\n",
    "- How it works to bring a Machine Learning model to mobile and embedded system,\n",
    "- How to shrink the model to fit these devices,\n",
    "- the overall architecture that support TFLite,\n",
    "- How to use the model to iOS, android, and embedded system."
   ]
  },
  {
   "cell_type": "markdown",
   "metadata": {},
   "source": [
    "__Make the model available on a resource constraint hardware like mobile edge__\n",
    "\n",
    "After you created the best model that is ready to be deployed, we need to think about all the things that a mobile solution needs. TensorFlow Lite helps you create and build the model with ease for mobile / edge computing devices and offer them to the world."
   ]
  },
  {
   "cell_type": "markdown",
   "metadata": {},
   "source": [
    "### Features"
   ]
  },
  {
   "cell_type": "markdown",
   "metadata": {},
   "source": [
    "__Lightweight__. Our aim is to be lightweight working on small low-power devices like phone and may not be as accurate as those which run on super computer in the cloud.\n",
    "\n",
    "__Low-latency__. TensorFlow Lite is suitable to run on devices with low-latency, even without internet connection.\n",
    "\n",
    "__Privacy__. TensorFlow Lite uses on devices machine learning to operate, so no need for the data to leave the device ensuring privacy. \n",
    "\n",
    "__Improved power consumption__. TFLite improves power consumption since network connection tends to be power hungry. \n",
    "\n",
    "__Efficient model format__. TFLite creates a small binary-sized model with the minor impact on accuracy.\n",
    "\n",
    "__Pre-trained models__. TFLite has many pre-trained models for most common machine learning tasks with some example we can try to see how it runs on mobile device."
   ]
  },
  {
   "cell_type": "markdown",
   "metadata": {},
   "source": [
    "### Components"
   ]
  },
  {
   "cell_type": "markdown",
   "metadata": {},
   "source": [
    "TensorFlow Lite consists of two main components: __Converter__ and __Interpreter__.\n",
    "\n",
    "<table>\n",
    "    <tr>\n",
    "        <th style='text-align:center'>CONVERTER (to TensorFlow Lite Format)</th>\n",
    "        <th style='text-align:center'>INTERPRETER (Core)</th>\n",
    "    </tr>\n",
    "    <tr>\n",
    "        <th style='text-align:center'>Transform TensorFlow models into a form efficient for reading by the interpreter.</th>\n",
    "        <th style='text-align:center'>Diverse platform support (Android, iOS, embedded Linux, microcontrollers/IoT)</th>\n",
    "    </tr>\n",
    "    <tr>\n",
    "        <th style='text-align:center'>Introduces optimizations to improve binary size model performance and/or reduce model size.</th>\n",
    "        <th style='text-align:center'>Platform APIs for accelerated inference.</th>\n",
    "    </tr>\n",
    "    \n",
    "</table>\n",
    "\n",
    "To put it all together, here are the steps to utilize the TensorFlow Lite for our benefit:\n",
    "\n",
    "__1. Jump Start__. Use the Pretrained or Retrained Models\n",
    "\n",
    "__2. Custom Model__. Develop and deploy a custom model.\n",
    "\n",
    "__3. Performance__. Explore options, validate and accelerate models.\n",
    "\n",
    "__4. Optimize__. Model Optimization Toolkit."
   ]
  },
  {
   "cell_type": "markdown",
   "metadata": {},
   "source": [
    "### Performance"
   ]
  },
  {
   "cell_type": "markdown",
   "metadata": {},
   "source": [
    "Running inference on computer having machine learning on mobile devices is __resource demanding__, due to devices limited processing and power. So inference in these devices need to be performed quickly in order to avoid overheat and make mostly real-time application possible. \n",
    "\n",
    "<img src='Visualization/performance.jpg' alt='taken from tfcertification.com' width=\"500\">\n",
    "\n",
    "For this purpose, TensorFlow Lite can use hardware acceleration libraries / APIs for supported devices. One way to improve inference on Android devices, you can use Android Neural Network API for optimization.\n",
    "\n",
    "Then, you can also leverage hardware like edge TPU to boost the inference. Edge TPUs are solely build for operating on deep learning models. Not only for serving them, but training them as well. Hence, they are known for high performing and have a low-power footprint while being small in size."
   ]
  },
  {
   "cell_type": "markdown",
   "metadata": {},
   "source": [
    "### Delegates"
   ]
  },
  {
   "cell_type": "markdown",
   "metadata": {},
   "source": [
    "TensorFlow Lite Delegates is another form of acceleration from TensorFlow Lite. It is a way to pass your graph execution to hardware that is specialized to run inference. For this, TensorFlow Lite provides code for an experimental GPU delegate that can be used to accelerate the models on devices that have an available GPU. __GPUs are built to run many mathematical operation in parallel which makes them perfect for machine learning inference.__\n",
    "\n",
    "<img src='visualization/delegates.jpg' alt='taken from tfcertification.com' width=\"600\">\n",
    "\n",
    "We recommend you to check the following link to see the sample apps that use the TensorFlow Lite Delegates:\n",
    "https://www.tensorflow.org/lite/performance/gpu"
   ]
  },
  {
   "cell_type": "markdown",
   "metadata": {},
   "source": [
    "### Optimization Techniques"
   ]
  },
  {
   "cell_type": "markdown",
   "metadata": {},
   "source": [
    "Due to the generally limited resources on mobile and mobile devices, so it's very critical that deployed machine learning models have optimum model size, low latency and power consumption. Thus, there are several methods to achieve this optimum optimization:\n",
    "\n",
    "1. __Quantization.__ It reduces the precition of the numbers in the weights of the models.\n",
    "2. __Weight Pruning.__ It reduces the overall number parameters.\n",
    "3. __Model Topology Transforms.__ It converts the overall model topology to get more efficient model. \n",
    "\n",
    "For now, we recommend you to focus only on Quantization because that can give you the biggest and easiest gains."
   ]
  },
  {
   "cell_type": "markdown",
   "metadata": {},
   "source": [
    "### Why Quantize?"
   ]
  },
  {
   "cell_type": "markdown",
   "metadata": {},
   "source": [
    "__Quantization__ is the process of constraining the input from a continuous or otherwise a large set of values (such as the real numbers) to a discrete set (such as integers). Quantization optimizes your model with reduces precition representation of weights and optionally activation for both storage and computation. The followings are several benefits we can gain from Quantization:\n",
    "1. All available CPU platforms are supported.\n",
    "2. Reducing latency and inference cost.\n",
    "3. Low memory footprint.\n",
    "4. Allow execution on hardware restricted-to or optimized-for fixed-point operations.\n",
    "5. Optimized models for special purpose HW accelerators (TPUs)."
   ]
  },
  {
   "cell_type": "markdown",
   "metadata": {},
   "source": [
    "### Putting it all together"
   ]
  },
  {
   "cell_type": "markdown",
   "metadata": {},
   "source": [
    "__1. JUMP START__. Use pretrained or Retrained Models.\n",
    "\n",
    "__2. CUSTOM MODEL__. Develop and deploy a custom model.\n",
    "\n",
    "__3. PERFORMANCE__. Explore options, validate and accelerate models.\n",
    "\n",
    "__4. Optimize__. Model Optimization Toolkit."
   ]
  },
  {
   "cell_type": "markdown",
   "metadata": {},
   "source": [
    "## <u>How To [Part 1]</u>"
   ]
  },
  {
   "cell_type": "markdown",
   "metadata": {},
   "source": [
    "### TensorFlow Lite Converter"
   ]
  },
  {
   "cell_type": "markdown",
   "metadata": {},
   "source": [
    "In summary, the process will look something like this:\n",
    "\n",
    "<img src='visualization/tflite_summary.jpg' alt='taken from tfcertification.com' width=\"600\">"
   ]
  },
  {
   "cell_type": "markdown",
   "metadata": {},
   "source": [
    "- We will train the model using TensorFlow then save it as the saved model.\n",
    "- Next, we will use TFLite converter to convert the saved model into a TFLite model."
   ]
  },
  {
   "cell_type": "markdown",
   "metadata": {},
   "source": [
    "<img src='Visualization/tflite converter.jpg' alt='taken from tfcertification.com' width=\"600\">"
   ]
  },
  {
   "cell_type": "markdown",
   "metadata": {},
   "source": [
    "When you create a model with TensorFlow, you can save the model either using:\n",
    "- `tf.Keras` Model\n",
    "- `SavedModel`\n",
    "- Concrete Function(s)\n",
    "\n",
    "Then, the converter will take the model and convert it to __`.tflite`__ format, which a flat buffer that can be used on a mobile device, along with optional backend like NN API or GPUs. "
   ]
  },
  {
   "cell_type": "markdown",
   "metadata": {},
   "source": [
    "<img src='visualization/parameters for conversion.jpg' alt='taken from tfcertification.com' width='800'>"
   ]
  },
  {
   "cell_type": "markdown",
   "metadata": {},
   "source": [
    "In Phyton, when we develop a work station, we can call __`tf.lite.TFLiteConverter`__ to the conversion. Depending on how your model is represented, you can then instantiate it from SavedModel / Keras Model / Concrete Function(s) in order to get the output.\n",
    "\n",
    "__Preferred Model: `SavedModel`__\n",
    "- The standard for serializing a TensorFlow model\n",
    "- A MetaGraph to hold metadata\n",
    "- Holds snapshot of the trained model (with model weights and computation)\n",
    "- No model building code required\n",
    "- Support model versioning"
   ]
  },
  {
   "cell_type": "markdown",
   "metadata": {},
   "source": [
    "### Convert TensorFlow Model"
   ]
  },
  {
   "cell_type": "markdown",
   "metadata": {},
   "source": [
    "__Load the `.h5` model that you have trained__"
   ]
  },
  {
   "cell_type": "code",
   "execution_count": null,
   "metadata": {},
   "outputs": [],
   "source": [
    "import tensorflow as tf\n",
    "from tensorflow.keras.models import load_model\n",
    "\n",
    "# load the best saved model from our last training\n",
    "myModel = load_model('Models/model_4.h5')"
   ]
  },
  {
   "cell_type": "markdown",
   "metadata": {},
   "source": [
    "__Instantiate the TFLite converter from that saved model__. \n",
    "\n",
    "Once you have done, simply call the convert method and you will get the flattened version that you can use with TensorFlow Lite."
   ]
  },
  {
   "cell_type": "code",
   "execution_count": null,
   "metadata": {},
   "outputs": [],
   "source": [
    "# create a TFLiteConverter object from a TensorFlow Keras model \n",
    "converter = tf.lite.TFLiteConverter.from_keras_model(myModel)\n",
    "\n",
    "# converts a Keras model based on instance variable\n",
    "myModel_tflite = converter.convert()"
   ]
  },
  {
   "cell_type": "markdown",
   "metadata": {},
   "source": [
    "__Save out the `.tflite` file by writing it to the file system__. \n",
    "\n",
    "We can write the byte of the converter TFLite model to the file system. Now you have a model that can be deployed to Android, iOS, or edge system."
   ]
  },
  {
   "cell_type": "code",
   "execution_count": null,
   "metadata": {},
   "outputs": [],
   "source": [
    "from pathlib import Path\n",
    "\n",
    "# Save the model\n",
    "tflite_model_file = Path('clothing_classifier.tflite')\n",
    "tflite_model_file.write_bytes(myModel_tflite)\n",
    "\n",
    "# with tf.io.gfile.GFile('clothing_classifier.tflite', mode='wb') as file:\n",
    "#     file.write(myModel_tflite)"
   ]
  },
  {
   "cell_type": "markdown",
   "metadata": {},
   "source": [
    "### Post-training Quantization"
   ]
  },
  {
   "cell_type": "markdown",
   "metadata": {},
   "source": [
    "One simple method to do the quantization is called post-training quantization. In this case, instead of quantizing your model during training, and effectively changing your training code, you instead quantize as part of the process of converting the model to the TensorFlow Lite format. To put it simply, we convert all the floats in the weight of the models to integer.\n",
    "\n",
    "The followings are the benefits of using this technique:\n",
    "- Reduced precision representation with 3x lower latency\n",
    "- Little degradation in model accuracy\n",
    "- Optimization modes: `default` (both size and latency), `size` (being reduced) , `latency` (being reduced).\n",
    "- Efficiently represents an arbitrary magnitude of ranges\n",
    "- Quantization target speficication (FP32/INT8)"
   ]
  },
  {
   "cell_type": "markdown",
   "metadata": {},
   "source": [
    "The following is the example of how we overwrite the default behavior of the converter to optimize primarily for size, latency, or leave it at the default where the converter will try to figure out the best balance for size and latency. "
   ]
  },
  {
   "cell_type": "code",
   "execution_count": null,
   "metadata": {},
   "outputs": [],
   "source": [
    "import tensorflow as tf\n",
    "from tensorflow.keras.models import load_model\n",
    "\n",
    "myModel = load_model('Models/model_4.h5')\n",
    "converter = tf.lite.TFLiteConverter.from_keras_model(myModel)\n",
    "\n",
    "# Optimize for size\n",
    "converter.optimizations = [tf.lite.Optimize.OPTIMIZE_FOR_SIZE]\n",
    "\n",
    "# Optimize for latency\n",
    "# converter.optimizations = [tf.lite.Optimize.OPTIMIZE_FOR_LATENCY]\n",
    "\n",
    "# Optimize for the best balance between size and latency\n",
    "# converter.optimizations = [tf.lite.Optimize.DEFAULT]\n",
    "\n",
    "tflite_quant_model = converter.convert()"
   ]
  },
  {
   "cell_type": "markdown",
   "metadata": {},
   "source": [
    "### Post-Training Integer Quantization"
   ]
  },
  {
   "cell_type": "markdown",
   "metadata": {},
   "source": [
    "<img src='visualization/integer-quantization.jpg' alt='taken from tfcertification.com' width=\"600\">\n",
    "\n",
    "At some cases, like Edge TPUs, the accelerator uses only integer. For this, the optimization toolkit allows you to do the post-training integer quantization that makes the model 4 times smaller. You can further optimize by using __calibration data__ when you run inference on the small set of input so as to determine the right scaling parameters to use when converting a model for integer quantization.\n",
    "\n",
    "The following is how to convert a saved model to TensorFlow Lite with post-training integer quantization.\n",
    "- Define the generator which is designed to generate samples from the datasets\n",
    "- Set the default optimization mode where balance the size and latency\n",
    "- Pass our generator to TensorFlow Lite Converter as a representative dataset. The representative dataset is used for evaluating optimization. This is done by running multiple inferences on floating point TensorFlow Lite Model using the used representative dataset as input. \n",
    "- We use the values from inferences to determine the scaling parameters needed to execute all tensors of the model in integer arithmetic. This makes the model allow the activations to be quantized along with the weight.\n",
    "- The resulting model will have as many quantized operations as possible. For operations that don't have a quantized implementation, they will fall back to the float one, hence allowing the model to still take float inputs and outputs for convenience."
   ]
  },
  {
   "cell_type": "code",
   "execution_count": null,
   "metadata": {},
   "outputs": [],
   "source": [
    "import tensorflow as tf\n",
    "import tensorflow_datasets as tfds\n",
    "\n",
    "# Define the generator\n",
    "def generator():\n",
    "    data = tfds.load(...)\n",
    "    for _ in range(num_calibration_steps):\n",
    "        image, = data.take(1)\n",
    "        yield [image]\n",
    "\n",
    "converter = tf.lite.TFLiteConverter.from_saved_model(saved_model_dir)\n",
    "\n",
    "# Set the optimization mode\n",
    "converter.optimizations = [tf.lite.Optimize.DEFAULT]\n",
    "\n",
    "# Pass the representative dataset to the converter\n",
    "converter.representative_dataset = tf.lite.RepresentativeDataset(generator)"
   ]
  },
  {
   "cell_type": "markdown",
   "metadata": {},
   "source": [
    "If you have operations that don't quantize implementation, their floating point values will be used automatically. This makes for convergent to occur smoothly, while restricting deployment to special purpose accelerators that only support integers. Hence, to support these devices that don't support floating point operation, we just tell the converter to only output integers, and this can be done by constraining the quantization target specifications to `TFLITE_BUILTINS_INT8`.\n",
    "\n",
    "Learn more about supported ops: https://www.tensorflow.org/lite/guide/ops_compatibility"
   ]
  },
  {
   "cell_type": "code",
   "execution_count": null,
   "metadata": {},
   "outputs": [],
   "source": [
    "...\n",
    "# Set the optimization mode\n",
    "converter.optimizations = [tf.lite.Optimize.OPTIMIZE_FOR_LATENCY]\n",
    "\n",
    "# Pass the representative dataset to the converter\n",
    "converter.representative_dataset = tf.lite.RepresentativeDataset(generator)\n",
    "\n",
    "# Restricting supported target op specification to INT8\n",
    "converter.target_spec.supported_ops = [tf.lite.OpsSet.TFLITE_BUILTINS_INT8]"
   ]
  },
  {
   "cell_type": "markdown",
   "metadata": {},
   "source": [
    "To overcome the unsupported ops, we can use __`TF-SELECT`__:\n",
    "\n",
    "http://www.tensorflow.org/lite/guide/ops_select"
   ]
  },
  {
   "cell_type": "code",
   "execution_count": null,
   "metadata": {},
   "outputs": [],
   "source": [
    "import tensorflow as tf\n",
    "\n",
    "converter = tf.lite.TFLiteConverter.from_saved_model(saved_model_dir)\n",
    "\n",
    "converter.target_ops = [tf.lite.OpsSet.TFLITE_BUILTINS, \n",
    "                        tf.lite.OpsSet.SELECT_TF_OPS]\n",
    "\n",
    "tflite_model = converter.convert()"
   ]
  },
  {
   "cell_type": "markdown",
   "metadata": {},
   "source": [
    "### Optimizing the Models in Summary"
   ]
  },
  {
   "cell_type": "markdown",
   "metadata": {},
   "source": [
    "Below is the flow chart that we're likely to follow when optimizing the TensorFlow Lite models. \n",
    "<img src='visualization/optimization summary.jpg' alt='taken from tfcertification.com' width=\"800\">\n",
    "\n",
    "If you don't intend to quantize the model, you will end up with the floating point model. However, if you only want to quantize the weight in the model, you can do so by just setting the one of the post-training optimization models in the converter. The converter will do its best to quantize all the operation but your model may still end up with few floating point operations. "
   ]
  },
  {
   "cell_type": "markdown",
   "metadata": {},
   "source": [
    "### TensorFlow Lite Interpreter in Python\n",
    "\n",
    "One really nice feature is to test your model using Python. You don't need to deploy it on mobile or embedded system before you can start using it. \n",
    "\n",
    "In short, the followings are the steps we can go:\n",
    "- Load the TensorFlow Lite Model and allocate the tensors\n",
    "- Extract the input and output tensors for the model\n",
    "- Set the input tensor with some validation data and invoke the interpreter to run inference on it before reading the result by looking at the output tensor."
   ]
  },
  {
   "cell_type": "code",
   "execution_count": null,
   "metadata": {},
   "outputs": [],
   "source": [
    "import tensorflow.lite as tflite\n",
    "\n",
    "# Load the TFLite model and allocate the tensors\n",
    "interpreter = tflite.Interpreter(model_content = tflite_model)\n",
    "interpreter.allocate_tensors()\n",
    "\n",
    "# Get input and output tensors\n",
    "input_details = interpreter.get_input_details()\n",
    "output_details = interpreter.get_output_details()\n",
    "\n",
    "# Point the data to be used for testing and run the interpreter\n",
    "interpreter.set_tensor(input_details[0]['index'], input_data)\n",
    "interpreter.invoke()\n",
    "tflite_results = interpreter.get_tensor(output_details[0]['index'])"
   ]
  },
  {
   "cell_type": "markdown",
   "metadata": {},
   "source": [
    "## <u>How to [Part 2]</u>"
   ]
  },
  {
   "cell_type": "markdown",
   "metadata": {},
   "source": [
    "### Getting a Basic Model Running"
   ]
  },
  {
   "cell_type": "markdown",
   "metadata": {},
   "source": [
    "<img src='visualization/getstarted.jpg' alt='taken from tfcertification.com' width=\"800\">"
   ]
  },
  {
   "cell_type": "markdown",
   "metadata": {},
   "source": [
    "### Transfer Learning "
   ]
  },
  {
   "cell_type": "markdown",
   "metadata": {},
   "source": [
    "<img src='visualization/transferlearning.jpg' alt='taken from tfcertification.com' width=\"600\">\n",
    "A common scenario when using mobile application is to take the existing models that have been on large datasets with many trained layers that are specialized to your task. Then, you can take advantage of this by retraining a few last layers using features that were learned in the original model and still get a great result even with small dataset. "
   ]
  },
  {
   "cell_type": "markdown",
   "metadata": {},
   "source": [
    "### Transfer Learning with TensorFlow Hub"
   ]
  },
  {
   "cell_type": "markdown",
   "metadata": {},
   "source": [
    "Say we want to classify cats and dogs, here is the steps we can follow:\n",
    "\n",
    "<img src='visualization/tfhub.jpg' alt='taken from tfcertification.com' width=\"700\">"
   ]
  },
  {
   "cell_type": "markdown",
   "metadata": {},
   "source": [
    "# Model Deployment\n",
    "\n",
    "__Notes__:\n",
    "- Typically, we will not put this procedure in production.\n",
    "- TensorFlow based on Python is too large and not optimized for serving/prediction. However, it's optimized for training. Hence, we need to use something else for production.\n",
    "- Instead, we can use TensorFlow Serving, TensorFlow Lite, AWS Lambda, etc.\n",
    "\n",
    "__AWS Lambda__:\n",
    "\n",
    "By using AWS Lambda, we can run code without thinking about the servers. Hence, we don't need to rent an instance, instead just define a function and specify what is the input and output. We only need to pay for the time this function is actually run. For example, if our function only needs 2 seconds to run, then we only need to pay for 2 seconds. \n",
    "\n",
    "Now, we want to use this model and deploy it using Lambda. Here are the steps you can follow:"
   ]
  },
  {
   "cell_type": "markdown",
   "metadata": {},
   "source": [
    "## Convert the Model"
   ]
  },
  {
   "cell_type": "code",
   "execution_count": 1,
   "metadata": {},
   "outputs": [],
   "source": [
    "import tensorflow as tf\n",
    "from tensorflow.keras.models import load_model\n",
    "%config IPCompleter.greedy=True\n",
    "%config IPCompleter.use_jedi=False"
   ]
  },
  {
   "cell_type": "code",
   "execution_count": 2,
   "metadata": {},
   "outputs": [
    {
     "name": "stdout",
     "output_type": "stream",
     "text": [
      "WARNING:tensorflow:From C:\\Users\\Diardano Raihan\\Anaconda3\\lib\\site-packages\\tensorflow\\python\\training\\tracking\\tracking.py:111: Model.state_updates (from tensorflow.python.keras.engine.training) is deprecated and will be removed in a future version.\n",
      "Instructions for updating:\n",
      "This property should not be used in TensorFlow 2.0, as updates are applied automatically.\n",
      "WARNING:tensorflow:From C:\\Users\\Diardano Raihan\\Anaconda3\\lib\\site-packages\\tensorflow\\python\\training\\tracking\\tracking.py:111: Layer.updates (from tensorflow.python.keras.engine.base_layer) is deprecated and will be removed in a future version.\n",
      "Instructions for updating:\n",
      "This property should not be used in TensorFlow 2.0, as updates are applied automatically.\n",
      "INFO:tensorflow:Assets written to: C:\\Users\\DIARDA~1\\AppData\\Local\\Temp\\tmpuz_ckke6\\assets\n"
     ]
    }
   ],
   "source": [
    "# load the best saved model from our last training\n",
    "myModel = load_model('Models/model_4.h5')\n",
    "\n",
    "# create a TFLiteConverter object from a TensorFlow Keras model \n",
    "converter = tf.lite.TFLiteConverter.from_keras_model(myModel)\n",
    "\n",
    "# converts a Keras model based on instance variable\n",
    "myModel_tflite = converter.convert()"
   ]
  },
  {
   "cell_type": "code",
   "execution_count": 3,
   "metadata": {},
   "outputs": [
    {
     "data": {
      "text/plain": [
       "190051464"
      ]
     },
     "execution_count": 3,
     "metadata": {},
     "output_type": "execute_result"
    }
   ],
   "source": [
    "from pathlib import Path\n",
    "\n",
    "# Save the model\n",
    "tflite_model_file = Path('clothing_classifier.tflite')\n",
    "tflite_model_file.write_bytes(myModel_tflite)"
   ]
  },
  {
   "cell_type": "markdown",
   "metadata": {},
   "source": [
    "## Use the Model"
   ]
  },
  {
   "cell_type": "markdown",
   "metadata": {},
   "source": [
    "### TFLite Interpreter"
   ]
  },
  {
   "cell_type": "code",
   "execution_count": 4,
   "metadata": {},
   "outputs": [],
   "source": [
    "import tensorflow.lite as tflite\n",
    "# in AWS Lambda, we need to use this import below\n",
    "# import tflite_runtime.interpreter as tflite"
   ]
  },
  {
   "cell_type": "code",
   "execution_count": 5,
   "metadata": {},
   "outputs": [],
   "source": [
    "# Create an interpreter interface for any model in TFLite\n",
    "interpreter = tflite.Interpreter(model_path='clothing_classifier.tflite')\n",
    "interpreter.allocate_tensors()"
   ]
  },
  {
   "cell_type": "code",
   "execution_count": 6,
   "metadata": {},
   "outputs": [
    {
     "data": {
      "text/plain": [
       "[{'name': 'input_1',\n",
       "  'index': 0,\n",
       "  'shape': array([  1, 150, 150,   3]),\n",
       "  'shape_signature': array([ -1, 150, 150,   3]),\n",
       "  'dtype': numpy.float32,\n",
       "  'quantization': (0.0, 0),\n",
       "  'quantization_parameters': {'scales': array([], dtype=float32),\n",
       "   'zero_points': array([], dtype=int32),\n",
       "   'quantized_dimension': 0},\n",
       "  'sparsity_parameters': {}}]"
      ]
     },
     "execution_count": 6,
     "metadata": {},
     "output_type": "execute_result"
    }
   ],
   "source": [
    "# Get a list of input details from the model\n",
    "input_details = interpreter.get_input_details()\n",
    "input_index = input_details[0]['index']\n",
    "input_details"
   ]
  },
  {
   "cell_type": "code",
   "execution_count": 7,
   "metadata": {},
   "outputs": [
    {
     "data": {
      "text/plain": [
       "[{'name': 'Identity',\n",
       "  'index': 237,\n",
       "  'shape': array([ 1, 10]),\n",
       "  'shape_signature': array([-1, 10]),\n",
       "  'dtype': numpy.float32,\n",
       "  'quantization': (0.0, 0),\n",
       "  'quantization_parameters': {'scales': array([], dtype=float32),\n",
       "   'zero_points': array([], dtype=int32),\n",
       "   'quantized_dimension': 0},\n",
       "  'sparsity_parameters': {}}]"
      ]
     },
     "execution_count": 7,
     "metadata": {},
     "output_type": "execute_result"
    }
   ],
   "source": [
    "# Get a list of output details from the model\n",
    "output_details = interpreter.get_output_details()\n",
    "output_index = output_details[0]['index']\n",
    "output_details"
   ]
  },
  {
   "cell_type": "markdown",
   "metadata": {},
   "source": [
    "### Load a Test Image as Model Input"
   ]
  },
  {
   "cell_type": "code",
   "execution_count": 8,
   "metadata": {},
   "outputs": [],
   "source": [
    "labels = [\n",
    "    'dress',\n",
    "    'hat',\n",
    "    'longsleeve',\n",
    "    'outwear',\n",
    "    'pants',\n",
    "    'shirt',\n",
    "    'shoes',\n",
    "    'short',\n",
    "    'skirt',\n",
    "    't-shirt'\n",
    "]"
   ]
  },
  {
   "cell_type": "code",
   "execution_count": 9,
   "metadata": {},
   "outputs": [],
   "source": [
    "labels_dict = {\n",
    "    0: 'dress',\n",
    "    1: 'hat',\n",
    "    2: 'longsleeve',\n",
    "    3: 'outwear',\n",
    "    4: 'pants',\n",
    "    5: 'shirt',\n",
    "    6: 'shoes',\n",
    "    7: 'short',\n",
    "    8: 'skirt',\n",
    "    9: 't-shirt'\n",
    "}"
   ]
  },
  {
   "cell_type": "code",
   "execution_count": 10,
   "metadata": {},
   "outputs": [
    {
     "name": "stdout",
     "output_type": "stream",
     "text": [
      "float32\n"
     ]
    },
    {
     "data": {
      "image/png": "[encoded data removed]",
      "text/plain": [
       "<PIL.Image.Image image mode=RGB size=150x150 at 0x2B16B8B5308>"
      ]
     },
     "execution_count": 10,
     "metadata": {},
     "output_type": "execute_result"
    }
   ],
   "source": [
    "from tensorflow.keras.preprocessing.image import load_img\n",
    "import numpy as np\n",
    "\n",
    "# Obtain the image location\n",
    "img_loc = 'datasets/test/hat/2a12baab-f020-42e3-8e6b-5d82e3ed0b55.jpg'\n",
    "\n",
    "# load the image using load_img module\n",
    "img = load_img(path=img_loc, target_size=(150,150))\n",
    "\n",
    "# Turn the image into a 4D-array\n",
    "X = np.expand_dims(img, axis=0)\n",
    "\n",
    "# Normalize the image\n",
    "X = X/255.0\n",
    "\n",
    "# Turn the image into a Numpy array with float32 data type\n",
    "X = X.astype('float32')\n",
    "print(X.dtype)\n",
    "\n",
    "# Check the image\n",
    "img"
   ]
  },
  {
   "cell_type": "markdown",
   "metadata": {},
   "source": [
    "### Make the Prediction"
   ]
  },
  {
   "cell_type": "code",
   "execution_count": 11,
   "metadata": {},
   "outputs": [],
   "source": [
    "# set the value of the input tensor\n",
    "interpreter.set_tensor(input_index, X)\n",
    "interpreter.invoke()\n",
    "\n",
    "# Get the value of the output tensor\n",
    "preds = interpreter.get_tensor(output_index)"
   ]
  },
  {
   "cell_type": "code",
   "execution_count": 12,
   "metadata": {},
   "outputs": [
    {
     "data": {
      "text/plain": [
       "{'dress': 4.2887897e-31,\n",
       " 'hat': 1.0,\n",
       " 'longsleeve': 1.780517e-16,\n",
       " 'outwear': 1.9622327e-24,\n",
       " 'pants': 2.201639e-33,\n",
       " 'shirt': 4.8804883e-26,\n",
       " 'shoes': 4.4479933e-18,\n",
       " 'short': 3.290352e-37,\n",
       " 'skirt': 9.4776506e-36,\n",
       " 't-shirt': 1.0133569e-28}"
      ]
     },
     "execution_count": 12,
     "metadata": {},
     "output_type": "execute_result"
    }
   ],
   "source": [
    "dict(zip(labels, preds[0]))"
   ]
  },
  {
   "cell_type": "code",
   "execution_count": 13,
   "metadata": {},
   "outputs": [
    {
     "data": {
      "text/plain": [
       "'hat'"
      ]
     },
     "execution_count": 13,
     "metadata": {},
     "output_type": "execute_result"
    }
   ],
   "source": [
    "labels_dict.get(np.argmax(preds[0]))"
   ]
  },
  {
   "cell_type": "markdown",
   "metadata": {},
   "source": [
    "## Lambda Function"
   ]
  },
  {
   "cell_type": "code",
   "execution_count": 14,
   "metadata": {},
   "outputs": [],
   "source": [
    "import tensorflow.lite as tflite\n",
    "# in AWS Lambda, we need to use this import below\n",
    "# import tflite_runtime.interpreter as tflite\n",
    "\n",
    "# Create an interpreter interface for any model in TFLite\n",
    "interpreter = tflite.Interpreter(model_path='clothing_classifier.tflite')\n",
    "interpreter.allocate_tensors()\n",
    "\n",
    "# Get a list of input details from the model\n",
    "input_details = interpreter.get_input_details()\n",
    "input_index = input_details[0]['index']\n",
    "\n",
    "# Get a list of output details from the model\n",
    "output_details = interpreter.get_output_details()\n",
    "output_index = output_details[0]['index']"
   ]
  },
  {
   "cell_type": "markdown",
   "metadata": {},
   "source": [
    "### Func: `predict`"
   ]
  },
  {
   "cell_type": "code",
   "execution_count": 15,
   "metadata": {},
   "outputs": [],
   "source": [
    "def predict(X):\n",
    "    # set the value of the input tensor\n",
    "    interpreter.set_tensor(input_index, X)\n",
    "    interpreter.invoke()\n",
    "\n",
    "    # Get the value of the output tensor\n",
    "    preds = interpreter.get_tensor(output_index)\n",
    "    \n",
    "    return preds[0]"
   ]
  },
  {
   "cell_type": "markdown",
   "metadata": {},
   "source": [
    "### Func: `decode_predictions`"
   ]
  },
  {
   "cell_type": "code",
   "execution_count": 16,
   "metadata": {},
   "outputs": [],
   "source": [
    "labels = [\n",
    "    'dress',\n",
    "    'hat',\n",
    "    'longsleeve',\n",
    "    'outwear',\n",
    "    'pants',\n",
    "    'shirt',\n",
    "    'shoes',\n",
    "    'short',\n",
    "    'skirt',\n",
    "    't-shirt'\n",
    "]\n",
    "\n",
    "def decode_predictions(pred):\n",
    "    result = {label: float(score) for label, score in zip(labels, pred)}\n",
    "    return result"
   ]
  },
  {
   "cell_type": "markdown",
   "metadata": {},
   "source": [
    "### Func: `preprocessor`"
   ]
  },
  {
   "cell_type": "code",
   "execution_count": 17,
   "metadata": {},
   "outputs": [],
   "source": [
    "def preprocessor(img_url):\n",
    "    # load the image using PIL module\n",
    "    img = Image.open(urlopen(img_url))\n",
    "    \n",
    "    # Specify the image target size\n",
    "    img = img.resize((150, 150))\n",
    "    \n",
    "    # Turn the image into a 4D-array\n",
    "    X = np.expand_dims(img, axis =0)\n",
    "    \n",
    "    # Normalize the image\n",
    "    X = X/255.0\n",
    "    \n",
    "    # Turn the image into a Numpy array with float32 data type\n",
    "    X = X.astype('float32')\n",
    "    \n",
    "    return X"
   ]
  },
  {
   "cell_type": "markdown",
   "metadata": {},
   "source": [
    "### Func: `lambda_handler`"
   ]
  },
  {
   "cell_type": "code",
   "execution_count": 18,
   "metadata": {},
   "outputs": [],
   "source": [
    "from urllib.request import urlopen\n",
    "from PIL import Image\n",
    "\n",
    "def lambda_handler(event, context):\n",
    "    # Obtain the image location\n",
    "    url = event['url']\n",
    "    \n",
    "    # Preprocess the image\n",
    "    X = preprocessor(url)\n",
    "    \n",
    "    # Make prediction\n",
    "    preds = predict(X)\n",
    "    \n",
    "    # Obtain the result\n",
    "    results = decode_predictions(preds)\n",
    "    return results"
   ]
  },
  {
   "cell_type": "markdown",
   "metadata": {},
   "source": [
    "### Put Everything Together"
   ]
  },
  {
   "cell_type": "code",
   "execution_count": 19,
   "metadata": {},
   "outputs": [],
   "source": [
    "# Simulate the event (trigger)\n",
    "event = {'url': 'https://raw.githubusercontent.com/diardanoraihan/E2E_Deep_Learning/main/Clothes_Classification/Datasets/test/pants/01033304-f9a4-48c4-af65-677512880fae.jpg'} "
   ]
  },
  {
   "cell_type": "code",
   "execution_count": 20,
   "metadata": {},
   "outputs": [],
   "source": [
    "# Call the lambda_handler\n",
    "results = lambda_handler(event, context=False)"
   ]
  },
  {
   "cell_type": "code",
   "execution_count": 21,
   "metadata": {},
   "outputs": [
    {
     "data": {
      "text/plain": [
       "{'dress': 2.1086591459607007e-06,\n",
       " 'hat': 2.0010727829530145e-13,\n",
       " 'longsleeve': 0.0012293169274926186,\n",
       " 'outwear': 0.000773618754465133,\n",
       " 'pants': 0.3927960991859436,\n",
       " 'shirt': 0.00033335198531858623,\n",
       " 'shoes': 5.916072609579714e-07,\n",
       " 'short': 0.6048617362976074,\n",
       " 'skirt': 3.102071332250489e-06,\n",
       " 't-shirt': 1.20492529731564e-07}"
      ]
     },
     "execution_count": 21,
     "metadata": {},
     "output_type": "execute_result"
    }
   ],
   "source": [
    "# See the prediction result\n",
    "results"
   ]
  },
  {
   "cell_type": "markdown",
   "metadata": {},
   "source": [
    "## Deploy Locally with Docker"
   ]
  },
  {
   "cell_type": "markdown",
   "metadata": {},
   "source": [
    "We will compile everything as a separate file called `lambda_fucntion.py`. Then, we want to take and deploy it using AWS Lambda. For that, we will use Docker. AWS Lambda supports docker, so we can use a container image to deploy our function.\n",
    "\n",
    "In this section, you will learn how to run the model locally using Docker within your machine. "
   ]
  },
  {
   "cell_type": "markdown",
   "metadata": {},
   "source": [
    "### `lambda_function.py`\n",
    "\n",
    "First, let's create a file that stores all the functions needed to run the app, starting from defining the interpreter, receiving the input image, preprocessing the image, and use the saved model to make the prediction."
   ]
  },
  {
   "cell_type": "code",
   "execution_count": null,
   "metadata": {},
   "outputs": [],
   "source": [
    "# in AWS Lambda, we need to use this import below\n",
    "import tflite_runtime.interpreter as tflite\n",
    "import numpy as np\n",
    "from urllib.request import urlopen\n",
    "from PIL import Image\n",
    "\n",
    "# Create an interpreter interface for any model in TFLite\n",
    "interpreter = tflite.Interpreter(model_path='clothing_classifier.tflite')\n",
    "interpreter.allocate_tensors()\n",
    "\n",
    "# Get a list of input details from the model\n",
    "input_details = interpreter.get_input_details()\n",
    "input_index = input_details[0]['index']\n",
    "\n",
    "# Get a list of output details from the model\n",
    "output_details = interpreter.get_output_details()\n",
    "output_index = output_details[0]['index']\n",
    "\n",
    "def predict(X):\n",
    "    # set the value of the input tensor\n",
    "    interpreter.set_tensor(input_index, X)\n",
    "    interpreter.invoke()\n",
    "\n",
    "    # Get the value of the output tensor\n",
    "    preds = interpreter.get_tensor(output_index)\n",
    "    \n",
    "    return preds[0]\n",
    "\n",
    "labels = [\n",
    "    'dress',\n",
    "    'hat',\n",
    "    'longsleeve',\n",
    "    'outwear',\n",
    "    'pants',\n",
    "    'shirt',\n",
    "    'shoes',\n",
    "    'short',\n",
    "    'skirt',\n",
    "    't-shirt'\n",
    "]\n",
    "\n",
    "def decode_predictions(pred):\n",
    "    result = {label: float(score) for label, score in zip(labels, pred)}\n",
    "    return result\n",
    "\n",
    "def preprocessor(img_url):\n",
    "    # load the image using PIL module\n",
    "    img = Image.open(urlopen(img_url))\n",
    "    \n",
    "    # Specify the image target size\n",
    "    img = img.resize((150, 150))\n",
    "    \n",
    "    # Turn the image into a 4D-array\n",
    "    X = np.expand_dims(img, axis =0)\n",
    "    \n",
    "    # Normalize the image\n",
    "    X = X/255.0\n",
    "    \n",
    "    # Turn the image into a Numpy array with float32 data type\n",
    "    X = X.astype('float32')\n",
    "    \n",
    "    return X\n",
    "\n",
    "def lambda_handler(event, context):\n",
    "    # Obtain the image location\n",
    "    url = event['url']\n",
    "    \n",
    "    # Preprocess the image\n",
    "    X = preprocessor(url)\n",
    "    \n",
    "    # Make prediction\n",
    "    preds = predict(X)\n",
    "    \n",
    "    # Obtain the result\n",
    "    results = decode_predictions(preds)\n",
    "    return results"
   ]
  },
  {
   "cell_type": "markdown",
   "metadata": {},
   "source": [
    "### `Dockerfile`\n",
    "\n",
    "The next step is to create a Dockerfile. __What should we put in the docker file?__"
   ]
  },
  {
   "cell_type": "markdown",
   "metadata": {},
   "source": [
    "- __Dockerfile__ is a way for you to put all the dependencies you need for running the code into one single image that contains everything. \n",
    "\n",
    "\n",
    "- __A Docker image__ is a private file system just for your container. It provides all the files and code your container needs.\n",
    "\n",
    "\n",
    "- This image is self-sufficient because it has everything you need, such as:\n",
    "    - installing the python package management system.\n",
    "    - installing the pillow library to deal with image file.\n",
    "    - installing the TensorFlow Lite tflite_runtime interpreter.\n",
    "    - taking our model in tflite file and copy it to the docker image.\n",
    "    - taking the lambda_function.py and copy it to the docker image.\n",
    "    \n",
    "The file below is the official docker image from Amazon."
   ]
  },
  {
   "cell_type": "markdown",
   "metadata": {},
   "source": [
    "<hr>\n",
    "\n",
    "```python\n",
    "FROM public.ecr.aws/lambda/python:3.7\n",
    "\n",
    "RUN pip3 install --upgrade pip\n",
    "\n",
    "RUN pip3 install pillow --no-cache-dir\n",
    "RUN pip3 install https://raw.githubusercontent.com/alexeygrigorev/serverless-deep-learning/master/tflite/tflite_runtime-2.2.0-cp37-cp37m-linux_x86_64.whl --no-cache-dir\n",
    "\n",
    "COPY clothing_classifier.tflite clothing_classifier.tflite\n",
    "COPY lambda_function.py lambda_function.py\n",
    "\n",
    "CMD [ \"lambda_function.lambda_handler\" ]\n",
    "```\n",
    "<hr>"
   ]
  },
  {
   "cell_type": "markdown",
   "metadata": {},
   "source": [
    "What we need to do now is to run and build this docker image, and deploy it using AWS. Another option to deploy the model is by running it locally."
   ]
  },
  {
   "cell_type": "markdown",
   "metadata": {},
   "source": [
    "### Build the Docker Image"
   ]
  },
  {
   "cell_type": "markdown",
   "metadata": {},
   "source": [
    "The followings are the steps we do to run the application locally:\n",
    "\n",
    "__Run the docker daemon__. There are 2 ways to do this: \n",
    "- First option is to open __cmd__ as __administrator__, then launch the following command: `\"C:\\Program Files\\Docker\\Docker\\DockerCli.exe\" -SwitchDaemon`\n",
    "    \n",
    "- Second option is to run the __Docker Desktop__ from the start menu and validate that the docker is in __running__ state. \n",
    "    \n",
    "\n",
    "__Build an image from a Dockerfile__. _A Docker image_ is a private file system just for your container. It provides all the files and code your container needs.One important note is that do not change the working directory in Dockerfile\n",
    "\n",
    "```\n",
    "$ docker build -t tf-lite-lambda .\n",
    "```\n",
    "\n",
    "- The command above will build the image from the content of the folder you are currently in, with the tag name `tf-lite-lambda`. "
   ]
  },
  {
   "cell_type": "markdown",
   "metadata": {},
   "source": [
    "### Run the Container Image\n",
    "\n",
    "__Start a container based on the image you built in the previous step__. Running a container launches your application with private resources, securely isolated from the rest of your machine.\n",
    "\n",
    "```\n",
    "$ docker run --rm -p 8080:8080 --name clothes-classifier tf-lite-lambda\n",
    "```\n",
    "\n",
    "- The `-p` (stands for _publish_) indicates that we want to map the container port 80 to the host machine port 80. The container opens a Web server on port 80, and we can map ports on our computer to ports exposed by the container.\n",
    "\n",
    "- The `--rm` (stands for _remove_) indicates that we want to automatically remove the cotainer when it exists.\n",
    "\n",
    "- The `--name` gives a name to a new container, and `tf-lite-lambda` is the image name we use to create the container.\n",
    "\n",
    "__Save and share your image on Docker Hub__ to enable other users to easily download and run the image on any destination machine.\n",
    "\n",
    "```\n",
    "$ docker tag tf-lite-lambda [userName]/tf-lite-lambda\n",
    "$ docker push [userName]/tf-lite-lambda\n",
    "```"
   ]
  },
  {
   "cell_type": "markdown",
   "metadata": {},
   "source": [
    "Here are the screenshots of the results from the previous commands:\n",
    "\n",
    "<img src='visualization/build n run the docker app.jpg' alt='taken from tfcertification.com'>"
   ]
  },
  {
   "cell_type": "markdown",
   "metadata": {},
   "source": [
    "### `test.py`\n",
    "\n",
    "After we run the model, we want to test it. We need to create a special file that we can call to see the results of what the model has predicted. \n",
    "\n",
    "The file contains:\n",
    "- the complete categories from the expected input image.\n",
    "- a PANTS (test) image obtained from this link: http://bit.ly/mlbookcamp-pants. We will send a request that has a key `url` and a url of the image\n",
    "- a URL address indicating that we deploy on the localhost inside the docker.\n",
    "- a procedure to send a post request to the target URL address to obtain the prediction result.\n",
    "- parsing the prediction result and showing it to the user."
   ]
  },
  {
   "cell_type": "code",
   "execution_count": null,
   "metadata": {},
   "outputs": [],
   "source": [
    "import requests\n",
    "import numpy as np\n",
    "\n",
    "labels = [\n",
    "    'dress',\n",
    "    'hat',\n",
    "    'longsleeve',\n",
    "    'outwear',\n",
    "    'pants',\n",
    "    'shirt',\n",
    "    'shoes',\n",
    "    'short',\n",
    "    'skirt',\n",
    "    't-shirt'\n",
    "]\n",
    "\n",
    "data = {\n",
    "    \"url\": \"http://bit.ly/mlbookcamp-pants\"\n",
    "}\n",
    "\n",
    "url =\"http://localhost:8080/2015-03-31/functions/function/invocations\"\n",
    "\n",
    "results = requests.post(url, json=data).json()\n",
    "\n",
    "print('[PREDICTION RESULT]')\n",
    "print('+-------------------------------------------+')\n",
    "score = []\n",
    "for cat in results:\n",
    "\tprint('+ {}: {}'.format(cat, results[cat]))\n",
    "\tscore.append(results[cat])\n",
    "\n",
    "best_cat = np.argmax(score)\n",
    "print('+-------------------------------------------+')\n",
    "print('Therefore, the model predicts the input image as {}'.format(labels[best_cat].upper()))\n",
    "print()"
   ]
  },
  {
   "cell_type": "markdown",
   "metadata": {},
   "source": [
    "Run the `test.py` in your CLI and see the result for yourself:"
   ]
  },
  {
   "cell_type": "markdown",
   "metadata": {},
   "source": [
    "\n",
    "<img src='visualization/app prediction result.jpg' alt='taken from tfcertification.com'>"
   ]
  },
  {
   "cell_type": "markdown",
   "metadata": {},
   "source": [
    "## Deploy on AWS"
   ]
  },
  {
   "cell_type": "markdown",
   "metadata": {},
   "source": [
    "We just deployed the model locally with Docker. Now, we can bring the same container and deploy it on AWS. AWS has everything you need to deploy your deep learning model online. For this case, we will use AWS CLI, AWS ECR, AWS Lambda, and AWS API Gateaway."
   ]
  },
  {
   "cell_type": "markdown",
   "metadata": {},
   "source": [
    "### Install AWS CLI"
   ]
  },
  {
   "cell_type": "markdown",
   "metadata": {},
   "source": [
    "Everything you do with AWS is an API call. Although you can do by visiting the website, but wouldn't it be nice if you can do it one time? Hence, make sure you have installed AWS CLI in your local machine. https://docs.aws.amazon.com/cli/latest/userguide/install-cliv2-windows.html"
   ]
  },
  {
   "cell_type": "markdown",
   "metadata": {},
   "source": [
    "### Configure Your AWS Account"
   ]
  },
  {
   "cell_type": "markdown",
   "metadata": {},
   "source": [
    "If we want to deploy the app on AWS, it's obvious we need to set up an account there. After you make an AWS IAM User account, set up your Access Key ID, Secret Access Key, Default Region, and Default Output Format (commonly JSON). Once we have done this, we can make programmatic calls to AWS from the AWS CLI.\n",
    "\n",
    "```\n",
    "$ aws configure\n",
    "```\n",
    "\n",
    "<img src='visualization/aws configure.jpg' alt='taken from tfcertification.com'>"
   ]
  },
  {
   "cell_type": "markdown",
   "metadata": {},
   "source": [
    "### Create a Repo in AWS ECR (Elastic Container Registry)"
   ]
  },
  {
   "cell_type": "markdown",
   "metadata": {},
   "source": [
    "AWS ECR is a place for us to put Docker images. By running the following command, we will create a private repository to store the Docker image we have built previously.\n",
    "\n",
    "```\n",
    "$ aws ecr create-repository --repository-name lambda-images\n",
    "```\n",
    "\n",
    "<img src='visualization/aws create repo.jpg' alt='taken from tfcertification.com'>"
   ]
  },
  {
   "attachments": {},
   "cell_type": "markdown",
   "metadata": {},
   "source": [
    "### Publish the Image to the Repo\n",
    "\n",
    "Now, we want to publish the image that we have built locally. The followings are the steps cited directly from AWS (`AWS ECR > Repositories > lambda-images > View Push Command`):\n",
    "\n",
    "- Retrieve an authentication token and authenticate your Docker client to your registry.\n",
    "\n",
    "```\n",
    "$ aws ecr get-login-password --region us-east-1 | docker login --username AWS --password-stdin XXXXXXXXX474.dkr.ecr.us-east-1.amazonaws.com\n",
    "```\n",
    "\n",
    "- Build your Docker image using the following command. \n",
    "\n",
    "```\n",
    "$ docker build -t lambda-images .\n",
    "```\n",
    "\n",
    "- Tag your image so you can push the image to this repository.\n",
    "\n",
    "```\n",
    "$ docker tag tf-lite-lambda XXXXXXXXX474.dkr.ecr.us-east-1.amazonaws.com/lambda-images:tf-lite-lambda\n",
    "```\n",
    "\n",
    "- Run the following command to push this image to your newly created AWS repository.\n",
    "\n",
    "```\n",
    "$ docker push XXXXXXXXX474.dkr.ecr.us-east-1.amazonaws.com/lambda-images:tf-lite-lambda\n",
    "```\n",
    "\n",
    "Check the pushed image on the AWS ECR web page. Make sure to copy the URL because we need it to create a Lambda Function.\n",
    "\n",
    "<img src='visualization/aws push image.jpg' alt='taken from tfcertification.com' width=\"600\">"
   ]
  },
  {
   "cell_type": "markdown",
   "metadata": {},
   "source": [
    "### Create Lambda Function"
   ]
  },
  {
   "attachments": {},
   "cell_type": "markdown",
   "metadata": {},
   "source": [
    "Now, we are ready to create a Lambda Function. Go to AWS `Lambda` and click `Create function`. Choose `Container Image`.\n",
    "\n",
    "<img src='visualization/aws create lambda func.jpg' alt='taken from tfcertification.com' width=\"800\">\n",
    "\n",
    "Give your function a unique name and fill in the Container Image URL with the Image URL that you copied earlier. By leaving everything to default, click `Create function`"
   ]
  },
  {
   "cell_type": "markdown",
   "metadata": {},
   "source": [
    "### Test the Lambda Function"
   ]
  },
  {
   "cell_type": "markdown",
   "metadata": {},
   "source": [
    "You just created a lambda function for a prediction task. However, the current configuration does not give us sufficient memory and timeout. We have a big model and the function will take some time to run and load everything to the memory for the first time. Thus, we need to reconfigure it. Go to `Configuration` > `General Configuration` > click `Edit` and set RAM and Timeout to __512/1024__ and __30__ sec respectively. Save it.\n",
    "\n",
    "<img src='visualization/aws RAM Timeout.jpg' alt='taken from tfcertification.com' width=\"600\">\n"
   ]
  },
  {
   "cell_type": "markdown",
   "metadata": {},
   "source": [
    "Next, create a test with this JSON file format:\n",
    "```python\n",
    "{\n",
    "    \"url\": \"https://tinyurl.com/clothes-t-shirt\"\n",
    "}\n",
    "```\n",
    "<img src='visualization/aws test event.jpg' alt='taken from tfcertification.com' width=\"800\">\n",
    "\n",
    "Give a new event a name and click `Test` after you save it. Then, you will see the following result:\n",
    "\n",
    "<img src='visualization/aws test result.jpg' alt='taken from tfcertification.com' width=\"800\">\n",
    "\n",
    "One thing you need to be aware of is that with AWS Lambda, you will be charged based on the number of requests and the duration, that is, the time it takes for our code to be executed. Please refer to this [link](https://aws.amazon.com/lambda/pricing/) for more pricing info."
   ]
  },
  {
   "cell_type": "markdown",
   "metadata": {},
   "source": [
    "### API Gateaway Integration"
   ]
  },
  {
   "attachments": {},
   "cell_type": "markdown",
   "metadata": {},
   "source": [
    "You just tested the function and it seems to work well in making the prediction. What's left is to use it from outside (online). To do this, we need to create an API via AWS API Gateaway.\n",
    "\n",
    "__1. Create a New API__\n",
    "\n",
    "- Visit AWS API Gateaway, then choose REST API by clicking `Build` button.\n",
    "- Choose the protocol: `REST`. Choose New API for __Creating New API__. Then, fill in the API Name and add some description.\n",
    "\n",
    "<img src='visualization/aws rest api.jpg' alt='taken from tfcertification.com' width=\"300\"><img src='visualization/aws api setting.jpg' alt='taken from tfcertification.com' width=\"600\">\n",
    "\n",
    "__2. Create a resource: Predict and a method POST__\n",
    "- From `Actions`, choose Make Resource > fill in \"predict\".\n",
    "- From `Actions`, choose Make Method > select `POST`\n",
    "<img src='visualization/aws method resource.jpg' alt='taken from tfcertification.com' width=\"200\">\n",
    "\n",
    "__3. Select the Lambda Function and add some details__. \n",
    "- Click on `POST`, then make sure to write the correct name for the __Lambda Function__ and leave everything by default. \n",
    "<img src='visualization/aws predict post setup.jpg' width=\"500\">\n",
    "\n",
    "__4. Test the API__. \n",
    "- From the flow chart execution, click `Test`.\n",
    "<img src='visualization/aws test api.jpg' width=\"800\">\n",
    "- To test it, input the following code in the __Request Body__:\n",
    "<img src='visualization/aws request body.jpg' width=\"400\">\n",
    "- You should see the following result in the __Response Body__:\n",
    "<img src='visualization/aws response body.jpg' width=\"400\">\n",
    "\n",
    "__5. Deploy the API__\n",
    "- Finally, we need to deploy the API to use it outside. From `Actions`, click `DEPLOY API`. \n",
    "<img src='visualization/aws deploy api.jpg' width=\"400\">\n",
    "- Obtain the URL from the \"Invoke URL\" section. In this case, we have: https://xw2bv0y8mb.execute-api.us-east-1.amazonaws.com/test\n",
    "- Open the Postman App or go to [reqbin](https://reqbin.com/) to test the REST API we just created. Notice, since we specify `predict` as our method for `POST`, we need to add `/predict` at the end of the URL. Hence, the complete URL to make an API call for making a prediction is `https://xw2bv0y8mb.execute-api.us-east-1.amazonaws.com/test/predict`. Copy and paste the link to the URL section in the app.\n",
    "- Copy the following object in JSON as the body to make this POST request. Click `Send`.\n",
    "```javascript\n",
    "{\n",
    "    \"url\": \"https://tinyurl.com/clothes-t-shirt\"\n",
    "}\n",
    "```\n",
    "- You can see the prediction result as the content received after making the API call POST request. Congrats, now your deep learning model is totally online and ready to help the world become a better place!\n",
    "\n",
    "<img src='visualization/aws post request.jpg'>"
   ]
  }
 ],
 "metadata": {
  "kernelspec": {
   "display_name": "Python 3",
   "language": "python",
   "name": "python3"
  },
  "language_info": {
   "codemirror_mode": {
    "name": "ipython",
    "version": 3
   },
   "file_extension": ".py",
   "mimetype": "text/x-python",
   "name": "python",
   "nbconvert_exporter": "python",
   "pygments_lexer": "ipython3",
   "version": "3.7.9"
  }
 },
 "nbformat": 4,
 "nbformat_minor": 4
}
